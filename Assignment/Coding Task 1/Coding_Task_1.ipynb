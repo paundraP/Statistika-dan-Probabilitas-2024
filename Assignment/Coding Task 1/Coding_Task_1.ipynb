{
 "cells": [
  {
   "cell_type": "markdown",
   "metadata": {},
   "source": [
    "**Analisis Statistik Deskriptif Sederhana Menggunakan Python**\n",
    "\n",
    "**Kelompok 3**\n",
    "1. Paundra Pujo Darmawan    - 5027241008\n",
    "2. Ahmad Idza Anafin        - 5027241017\n",
    "3. M. Fatihul Qolbi A.      - 5027241023\n",
    "4. Nafis Faqih Allmuzaky M. - 5027241095\n"
   ]
  },
  {
   "cell_type": "markdown",
   "metadata": {},
   "source": []
  },
  {
   "cell_type": "code",
   "execution_count": 65,
   "metadata": {},
   "outputs": [
    {
     "name": "stdout",
     "output_type": "stream",
     "text": [
      "Rata - rata penjualan A pada bulan 1 = 105\n",
      "Rata - rata penjualan B pada bulan 1 = 198\n",
      "Rata - rata penjualan A pada bulan 2 = 144\n",
      "Rata - rata penjualan B pada bulan 2 = 214\n",
      "Rata - rata penjualan A pada bulan 3 = 138\n",
      "Rata - rata penjualan B pada bulan 3 = 175\n",
      "Rata - rata penjualan A pada bulan 4 = 143\n",
      "Rata - rata penjualan B pada bulan 4 = 217\n",
      "Rata - rata penjualan A pada bulan 5 = 130\n",
      "Rata - rata penjualan B pada bulan 5 = 283\n"
     ]
    }
   ],
   "source": [
    "import pandas as pd\n",
    "\n",
    "df = pd.read_excel('Dataset.xlsx')\n",
    "bulan = []\n",
    "tgl=[]\n",
    "hujan=[]\n",
    "a=[]\n",
    "b=[]\n",
    "perbulan = {}\n",
    "# for i in df:\n",
    "#     print(i)\n",
    "for i in range(len(df['Tanggal'])):\n",
    "    try:\n",
    "        tgl.append(df['Tanggal'][i])\n",
    "        hujan.append(df['Curah Hujan (mm)'][i])\n",
    "        a.append(df['Penjualan A (pcs)'][i])\n",
    "        b.append(df['Penjualan B (pcs)'][i])\n",
    "        if i+1 == len(df['Tanggal']): \n",
    "            bulan.append(perbulan)\n",
    "            perbulan={}\n",
    "            tgl=[]\n",
    "            hujan=[]\n",
    "            a=[]\n",
    "            b=[]\n",
    "        elif df['Tanggal'][i+1] == 1: \n",
    "            bulan.append(perbulan)\n",
    "            perbulan={}\n",
    "            tgl=[]\n",
    "            hujan=[]\n",
    "            a=[]\n",
    "            b=[]\n",
    "        else:\n",
    "            perbulan['Tanggal'] = tgl\n",
    "            perbulan['Hujan'] = hujan\n",
    "            perbulan['A'] = a\n",
    "            perbulan['B'] = b\n",
    "        # bulan.append(perbulan)    \n",
    "    except:\n",
    "        break\n",
    "    \n",
    "# print(bulan[4]['Tanggal'])\n",
    "#mean\n",
    "for i,data in enumerate(bulan):\n",
    "    meanA= sum(data['A'])//len(data['A'])\n",
    "    meanB= sum(data['B'])//len(data['B'])\n",
    "    print(f\"Rata - rata penjualan A pada bulan {i+1} = {meanA}\")\n",
    "    print(f\"Rata - rata penjualan B pada bulan {i+1} = {meanB}\")\n"
   ]
  },
  {
   "cell_type": "code",
   "execution_count": null,
   "metadata": {},
   "outputs": [],
   "source": []
  }
 ],
 "metadata": {
  "kernelspec": {
   "display_name": "Python 3 (ipykernel)",
   "language": "python",
   "name": "python3"
  },
  "language_info": {
   "codemirror_mode": {
    "name": "ipython",
    "version": 3
   },
   "file_extension": ".py",
   "mimetype": "text/x-python",
   "name": "python",
   "nbconvert_exporter": "python",
   "pygments_lexer": "ipython3",
   "version": "3.11.1"
  }
 },
 "nbformat": 4,
 "nbformat_minor": 4
}
